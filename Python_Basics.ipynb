{
  "nbformat": 4,
  "nbformat_minor": 0,
  "metadata": {
    "colab": {
      "provenance": []
    },
    "kernelspec": {
      "name": "python3",
      "display_name": "Python 3"
    },
    "language_info": {
      "name": "python"
    }
  },
  "cells": [
    {
      "cell_type": "markdown",
      "source": [
        "PYTHON BASICS QUESTIONS\n"
      ],
      "metadata": {
        "id": "fZcY1WQifB0X"
      }
    },
    {
      "cell_type": "code",
      "source": [
        "from google.colab import drive\n",
        "drive.mount('/content/drive')"
      ],
      "metadata": {
        "id": "JXdXZZKKx8ac"
      },
      "execution_count": null,
      "outputs": []
    },
    {
      "cell_type": "code",
      "execution_count": null,
      "metadata": {
        "id": "ZOVB8rJOeH_D"
      },
      "outputs": [],
      "source": [
        "#Question 1. What is Python, and why is it popular?\n",
        "\n",
        "\"\"\"\n",
        "python is a programming language. Python is popular as a programming language because of it is simple to understand and easy to write.\n",
        "\"\"\"\n",
        "\n",
        "\n",
        "#Question 2. What is an interpreter in Python?\n",
        "\n",
        "\"\"\"\n",
        "Interpreter is a computer programm in python language that translates python code into a machine code that a computer can understand.\n",
        "\"\"\"\n",
        "\n",
        "\n",
        "#Question 3. What are pre-defined keywords in Python?\n",
        "\n",
        "\"\"\"\n",
        "Keywords are reserved words in Python that have special meanings.\n",
        "\"\"\"\n",
        "\n",
        "\n",
        "#Question 4. Can keywords be used as variable names?\n",
        "\n",
        "\"\"\"\n",
        "keyword cannot be used as variable names because they have reserved words in python and have a special meaning.\n",
        "\"\"\"\n",
        "\n",
        "\n",
        "#Question 5. What is mutability in Python?\n",
        "\n",
        "\"\"\"\n",
        "In python language objects which are changeble or can be modified are considered as mutable objects and this process is called mutability.\n",
        "\"\"\"\n",
        "\n",
        "\n",
        "#Question 6. Why are lists mutable, but tuples are immutable?\n",
        "\n",
        "\"\"\"\n",
        "List are mutable because content created underr list can be changed and modified but in tuple we cannot change its content after creation.\n",
        "\"\"\"\n",
        "\n",
        "\n",
        "#Question 7. What is the difference between “==” and “is” operators in Python?\n",
        "\n",
        "\"\"\"\n",
        "The difference is that \"==\" operator compares the value of object while \"is\" compares the identiy of object.\n",
        "\"\"\"\n",
        "\n",
        "\n",
        "#Question 8. What are logical operators in Python?\n",
        "\n",
        "\"\"\"\n",
        "(and, or , not) are logical operators in python.\n",
        "\"\"\"\n",
        "\n",
        "\n",
        " #Question 9. What is type casting in Python?\n",
        "\n",
        " \"\"\"\n",
        " Typecasting is a process of changing one data type into another.\n",
        " \"\"\"\n",
        "\n",
        "\n",
        " #Question 10. What is the difference between implicit and explicit type casting?\n",
        "\n",
        " \"\"\"\n",
        " In typecasting implicit typecasting is automatic while the explicit typecasting is manual.\n",
        " \"\"\"\n",
        "\n",
        "\n",
        " #Question 11. What is the purpose of conditional statements in Python?\n",
        "\n",
        " \"\"\"\n",
        " Condition statement is used in python to execute code based on the evaluation of one or more conditions.\n",
        " \"\"\"\n",
        "\n",
        "\n",
        " #Question 12. How does the elif statement work?\n",
        "\n",
        " \"\"\"\n",
        " In python, elif is the short of \"else if\" and is used when the first if statement is not true.\n",
        " \"\"\"\n",
        "\n",
        "\n",
        " #Question 13. What is the difference between for and while loops?\n",
        "\n",
        " \"\"\"\n",
        " The difference between a for loop and a while loop is that a for loop is used when you know how many times to repeat a block of code, while a while loop is used when you don't.\n",
        "\"\"\"\n",
        "\n",
        "\n",
        "#Question 14. Describe a scenario where a while loop is more suitable than a for loop.\n",
        "\n",
        "\"\"\"\n",
        ". While loop is used when the number of iterations is not known in advance or when we want to repeat a block of code until a certain condition is met.\n",
        "\"\"\"\n"
      ]
    },
    {
      "cell_type": "markdown",
      "source": [
        "PRACTICAL QUESTIONS\n"
      ],
      "metadata": {
        "id": "dTTiXb0aSxXg"
      }
    },
    {
      "cell_type": "code",
      "source": [
        "# Question 1. Write a Python program to print \"Hello, World!\n",
        "\n",
        "print(\"Hello World\")"
      ],
      "metadata": {
        "colab": {
          "base_uri": "https://localhost:8080/"
        },
        "id": "uhMsSKGOS7eJ",
        "outputId": "c9c39f9c-0d5f-4e0f-d85e-56a0c1252ad5"
      },
      "execution_count": null,
      "outputs": [
        {
          "output_type": "stream",
          "name": "stdout",
          "text": [
            "Hello World\n"
          ]
        }
      ]
    },
    {
      "cell_type": "code",
      "source": [
        "# Question 2. Write a Python program that displays your name and age.\n",
        "\n",
        "Name = input(\"Enter your name: \")\n",
        "Age = input(\"Enter your age: \")\n",
        "print(\"Name: \", Name)\n",
        "print(\"Age: \", Age)"
      ],
      "metadata": {
        "colab": {
          "base_uri": "https://localhost:8080/"
        },
        "id": "07ui4BY2TVc3",
        "outputId": "e61f42b4-1086-49cb-a6c7-3c20be86d9f1"
      },
      "execution_count": null,
      "outputs": [
        {
          "output_type": "stream",
          "name": "stdout",
          "text": [
            "Enter your name:  somil\n",
            "Enter your age: 19\n",
            "Name:   somil\n",
            "Age:  19\n"
          ]
        }
      ]
    },
    {
      "cell_type": "code",
      "source": [
        "# Question 3. Write code to print all the pre-defined keywords in Python using the keyword library.\n",
        "\n",
        "print(\"pre-defined keywords in Python: \")\n",
        "import keyword\n",
        "print(keyword.kwlist)"
      ],
      "metadata": {
        "colab": {
          "base_uri": "https://localhost:8080/"
        },
        "id": "nGtbF6P-T65H",
        "outputId": "07a60667-79fe-4e9a-97cc-88ffa299d260"
      },
      "execution_count": null,
      "outputs": [
        {
          "output_type": "stream",
          "name": "stdout",
          "text": [
            "pre-defined keywords in Python: \n",
            "['False', 'None', 'True', 'and', 'as', 'assert', 'async', 'await', 'break', 'class', 'continue', 'def', 'del', 'elif', 'else', 'except', 'finally', 'for', 'from', 'global', 'if', 'import', 'in', 'is', 'lambda', 'nonlocal', 'not', 'or', 'pass', 'raise', 'return', 'try', 'while', 'with', 'yield']\n"
          ]
        }
      ]
    },
    {
      "cell_type": "code",
      "source": [
        "# Question 4. Write a program that checks if a given word is a Python keyword.\n",
        "\n",
        "\"\"\"\n",
        "Below written code checks if a given key word is a python keyword or not, if the keyword is a python keyword then it will give true otherwise it will give false.\n",
        "\"\"\"\n",
        "keyword.iskeyword(\"False\")\n",
        "\n",
        "\n",
        "\n"
      ],
      "metadata": {
        "colab": {
          "base_uri": "https://localhost:8080/"
        },
        "id": "0xBVRDpZVd2v",
        "outputId": "978b6e1b-200c-4967-ad69-b6599b3524ea"
      },
      "execution_count": null,
      "outputs": [
        {
          "output_type": "execute_result",
          "data": {
            "text/plain": [
              "True"
            ]
          },
          "metadata": {},
          "execution_count": 25
        }
      ]
    },
    {
      "cell_type": "code",
      "source": [
        "# Question 5. Create a list and tuple in Python, and demonstrate how attempting to change an element works differently\n",
        "#             for each.\n",
        "\n",
        "my_list = [1, 2, 3, 4, 5]\n",
        "my_tuple = (1, 2, 3, 4, 5)\n",
        "\n",
        "my_list[3] = 8\n"
      ],
      "metadata": {
        "id": "ZTboej53WBpK"
      },
      "execution_count": null,
      "outputs": []
    },
    {
      "cell_type": "code",
      "source": [
        "my_tule[3] = 8"
      ],
      "metadata": {
        "colab": {
          "base_uri": "https://localhost:8080/",
          "height": 147
        },
        "id": "SmbCAPYenKUY",
        "outputId": "3b521f32-5c4f-4047-b39a-286ba9472839"
      },
      "execution_count": null,
      "outputs": [
        {
          "output_type": "error",
          "ename": "NameError",
          "evalue": "name 'my_tule' is not defined",
          "traceback": [
            "\u001b[0;31m---------------------------------------------------------------------------\u001b[0m",
            "\u001b[0;31mNameError\u001b[0m                                 Traceback (most recent call last)",
            "\u001b[0;32m<ipython-input-20-6361a4b5147c>\u001b[0m in \u001b[0;36m<cell line: 1>\u001b[0;34m()\u001b[0m\n\u001b[0;32m----> 1\u001b[0;31m \u001b[0mmy_tule\u001b[0m\u001b[0;34m[\u001b[0m\u001b[0;36m3\u001b[0m\u001b[0;34m]\u001b[0m \u001b[0;34m=\u001b[0m \u001b[0;36m8\u001b[0m\u001b[0;34m\u001b[0m\u001b[0;34m\u001b[0m\u001b[0m\n\u001b[0m",
            "\u001b[0;31mNameError\u001b[0m: name 'my_tule' is not defined"
          ]
        }
      ]
    },
    {
      "cell_type": "code",
      "source": [
        "# Question 6. Write a function to demonstrate the behavior of mutable and immutable argument.\n",
        "\n",
        " # mutable object\n",
        "list_cont = [\"Arnold\", \"Herold\", 200, 300, 500, True, False]\n",
        "print(list_cont)"
      ],
      "metadata": {
        "colab": {
          "base_uri": "https://localhost:8080/"
        },
        "id": "cUkdVEV_qzuF",
        "outputId": "0b05da18-bfcb-49e7-f7e7-3bfac350aad1"
      },
      "execution_count": null,
      "outputs": [
        {
          "output_type": "stream",
          "name": "stdout",
          "text": [
            "['Arnold', 'Herold', 200, 300, 500, True, False]\n"
          ]
        }
      ]
    },
    {
      "cell_type": "code",
      "source": [
        "list_cont[2] = 100\n",
        "print(list_cont)\n"
      ],
      "metadata": {
        "colab": {
          "base_uri": "https://localhost:8080/"
        },
        "id": "2pf3a1OOrj2k",
        "outputId": "ba8503bd-9d10-4445-dadb-3c580b0dad3d"
      },
      "execution_count": null,
      "outputs": [
        {
          "output_type": "stream",
          "name": "stdout",
          "text": [
            "['Arnold', 'Herold', 100, 300, 500, True, False]\n"
          ]
        }
      ]
    },
    {
      "cell_type": "code",
      "source": [
        "# here sting is used which is a immutable objenct thats why when comanded to change it gave error.\n",
        "x = \"practice makes man perfect\"\n",
        "x[3]\n"
      ],
      "metadata": {
        "colab": {
          "base_uri": "https://localhost:8080/",
          "height": 36
        },
        "id": "I0IFUpfZsdpl",
        "outputId": "bec3707c-6978-4c0c-bd1a-742be84c0357"
      },
      "execution_count": null,
      "outputs": [
        {
          "output_type": "execute_result",
          "data": {
            "text/plain": [
              "'c'"
            ],
            "application/vnd.google.colaboratory.intrinsic+json": {
              "type": "string"
            }
          },
          "metadata": {},
          "execution_count": 42
        }
      ]
    },
    {
      "cell_type": "code",
      "source": [
        "x[3] = \"cc\""
      ],
      "metadata": {
        "colab": {
          "base_uri": "https://localhost:8080/",
          "height": 147
        },
        "id": "Dcbj-A9P1cZE",
        "outputId": "536ae07c-ab6f-4712-fb38-c561f8591824"
      },
      "execution_count": null,
      "outputs": [
        {
          "output_type": "error",
          "ename": "TypeError",
          "evalue": "'str' object does not support item assignment",
          "traceback": [
            "\u001b[0;31m---------------------------------------------------------------------------\u001b[0m",
            "\u001b[0;31mTypeError\u001b[0m                                 Traceback (most recent call last)",
            "\u001b[0;32m<ipython-input-43-e2b104e0fb88>\u001b[0m in \u001b[0;36m<cell line: 1>\u001b[0;34m()\u001b[0m\n\u001b[0;32m----> 1\u001b[0;31m \u001b[0mx\u001b[0m\u001b[0;34m[\u001b[0m\u001b[0;36m3\u001b[0m\u001b[0;34m]\u001b[0m \u001b[0;34m=\u001b[0m \u001b[0;34m\"cc\"\u001b[0m\u001b[0;34m\u001b[0m\u001b[0;34m\u001b[0m\u001b[0m\n\u001b[0m",
            "\u001b[0;31mTypeError\u001b[0m: 'str' object does not support item assignment"
          ]
        }
      ]
    },
    {
      "cell_type": "code",
      "source": [
        "# Question 7. Write a function to demonstrate the behavior of mutable and immutable arguments.\n",
        "\n",
        "# here list is used which is a mutable object and it didnt gave error while commanding or a change.\n",
        "list_cont = ['three', 'two', 'one']\n",
        "print(list_cont)\n"
      ],
      "metadata": {
        "colab": {
          "base_uri": "https://localhost:8080/"
        },
        "id": "TQav_1cS1sSR",
        "outputId": "155a4ca8-9003-4b2c-ca26-ce1007ecb769"
      },
      "execution_count": null,
      "outputs": [
        {
          "output_type": "stream",
          "name": "stdout",
          "text": [
            "['three', 'two', 'one']\n"
          ]
        }
      ]
    },
    {
      "cell_type": "code",
      "source": [
        "list_cont[2] = 1\n",
        "print(list_cont)"
      ],
      "metadata": {
        "colab": {
          "base_uri": "https://localhost:8080/"
        },
        "id": "fmmN5bwc2ioX",
        "outputId": "99da0156-2a51-4c88-b6a5-45494be989e2"
      },
      "execution_count": null,
      "outputs": [
        {
          "output_type": "stream",
          "name": "stdout",
          "text": [
            "['three', 'two', 1]\n"
          ]
        }
      ]
    },
    {
      "cell_type": "code",
      "source": [
        "xyz = \"assignment\" # here string is used which is a immutable object and when commanded to change something it gave error.\n",
        "xyz[3]"
      ],
      "metadata": {
        "colab": {
          "base_uri": "https://localhost:8080/",
          "height": 36
        },
        "id": "zjuADKCV2ppv",
        "outputId": "fdfb1d8c-5dfa-4d8d-f2ed-43dd5443f249"
      },
      "execution_count": null,
      "outputs": [
        {
          "output_type": "execute_result",
          "data": {
            "text/plain": [
              "'i'"
            ],
            "application/vnd.google.colaboratory.intrinsic+json": {
              "type": "string"
            }
          },
          "metadata": {},
          "execution_count": 46
        }
      ]
    },
    {
      "cell_type": "code",
      "source": [
        "xyz[3] = \"pp\""
      ],
      "metadata": {
        "colab": {
          "base_uri": "https://localhost:8080/",
          "height": 147
        },
        "id": "-mtEz2za3Isn",
        "outputId": "1db16897-dc62-41b5-db1a-ba092f68dbf3"
      },
      "execution_count": null,
      "outputs": [
        {
          "output_type": "error",
          "ename": "TypeError",
          "evalue": "'str' object does not support item assignment",
          "traceback": [
            "\u001b[0;31m---------------------------------------------------------------------------\u001b[0m",
            "\u001b[0;31mTypeError\u001b[0m                                 Traceback (most recent call last)",
            "\u001b[0;32m<ipython-input-47-4e76592ab7e4>\u001b[0m in \u001b[0;36m<cell line: 1>\u001b[0;34m()\u001b[0m\n\u001b[0;32m----> 1\u001b[0;31m \u001b[0mxyz\u001b[0m\u001b[0;34m[\u001b[0m\u001b[0;36m3\u001b[0m\u001b[0;34m]\u001b[0m \u001b[0;34m=\u001b[0m \u001b[0;34m\"pp\"\u001b[0m\u001b[0;34m\u001b[0m\u001b[0;34m\u001b[0m\u001b[0m\n\u001b[0m",
            "\u001b[0;31mTypeError\u001b[0m: 'str' object does not support item assignment"
          ]
        }
      ]
    },
    {
      "cell_type": "code",
      "source": [
        "# Question 8. Write a program to demonstrate the use of logical operators.\n",
        "\n",
        "300 > 200\n"
      ],
      "metadata": {
        "colab": {
          "base_uri": "https://localhost:8080/"
        },
        "id": "906oh7jt3NZl",
        "outputId": "0316c9ee-f16c-43fd-cc95-953d3fbbb1c5"
      },
      "execution_count": null,
      "outputs": [
        {
          "output_type": "execute_result",
          "data": {
            "text/plain": [
              "True"
            ]
          },
          "metadata": {},
          "execution_count": 51
        }
      ]
    },
    {
      "cell_type": "code",
      "source": [
        "2000/2 == 1000"
      ],
      "metadata": {
        "colab": {
          "base_uri": "https://localhost:8080/"
        },
        "id": "h-NCr4QV3rZ9",
        "outputId": "fd3a42d3-9168-4e1f-decb-b3961856c83f"
      },
      "execution_count": null,
      "outputs": [
        {
          "output_type": "execute_result",
          "data": {
            "text/plain": [
              "True"
            ]
          },
          "metadata": {},
          "execution_count": 53
        }
      ]
    },
    {
      "cell_type": "code",
      "source": [
        "340*3+4 == 1020"
      ],
      "metadata": {
        "colab": {
          "base_uri": "https://localhost:8080/"
        },
        "id": "KdfGMPOv4pBu",
        "outputId": "bb7cc8a2-950e-4499-f1b8-2712d1008cb5"
      },
      "execution_count": null,
      "outputs": [
        {
          "output_type": "execute_result",
          "data": {
            "text/plain": [
              "False"
            ]
          },
          "metadata": {},
          "execution_count": 54
        }
      ]
    },
    {
      "cell_type": "code",
      "source": [
        "# Question 9. Write a Python program to convert user input from string to integer, float, and boolean types\n",
        "\n",
        "Name = \"200\"\n",
        "type(Name)\n"
      ],
      "metadata": {
        "colab": {
          "base_uri": "https://localhost:8080/"
        },
        "id": "Ali09NRx4yqR",
        "outputId": "81cb8aa5-b160-4177-9029-bbfe9eefd0d1"
      },
      "execution_count": null,
      "outputs": [
        {
          "output_type": "execute_result",
          "data": {
            "text/plain": [
              "str"
            ]
          },
          "metadata": {},
          "execution_count": 60
        }
      ]
    },
    {
      "cell_type": "code",
      "source": [
        "print(int(Name))"
      ],
      "metadata": {
        "colab": {
          "base_uri": "https://localhost:8080/"
        },
        "id": "Jicp99OQ6PPb",
        "outputId": "537555b2-109f-4f84-c8ba-287c0cf5f444"
      },
      "execution_count": null,
      "outputs": [
        {
          "output_type": "stream",
          "name": "stdout",
          "text": [
            "200\n"
          ]
        }
      ]
    },
    {
      "cell_type": "code",
      "source": [
        "print(float(Name))"
      ],
      "metadata": {
        "colab": {
          "base_uri": "https://localhost:8080/"
        },
        "id": "8AAG_6HV6hxL",
        "outputId": "1eed22d7-381e-45f7-d8fd-6f660563ea96"
      },
      "execution_count": null,
      "outputs": [
        {
          "output_type": "stream",
          "name": "stdout",
          "text": [
            "200.0\n"
          ]
        }
      ]
    },
    {
      "cell_type": "code",
      "source": [
        "print(bool(Name))"
      ],
      "metadata": {
        "colab": {
          "base_uri": "https://localhost:8080/"
        },
        "id": "2nZZqGCF626D",
        "outputId": "3851adb5-07e3-4558-cc22-b477f9da3c70"
      },
      "execution_count": null,
      "outputs": [
        {
          "output_type": "stream",
          "name": "stdout",
          "text": [
            "True\n"
          ]
        }
      ]
    },
    {
      "cell_type": "code",
      "source": [
        "# Question 10. Write code to demonstrate type casting with list elements.\n",
        "\n",
        "# list of integers\n",
        "A = [100, 200, 300, 400, 500]\n",
        "print(A)\n",
        "type(A)\n",
        "str(A)"
      ],
      "metadata": {
        "id": "xFsbUk2p7C2X",
        "colab": {
          "base_uri": "https://localhost:8080/",
          "height": 54
        },
        "outputId": "6a14f86c-5d2f-427e-8910-184500163388"
      },
      "execution_count": 68,
      "outputs": [
        {
          "output_type": "stream",
          "name": "stdout",
          "text": [
            "[100, 200, 300, 400, 500]\n"
          ]
        },
        {
          "output_type": "execute_result",
          "data": {
            "text/plain": [
              "'[100, 200, 300, 400, 500]'"
            ],
            "application/vnd.google.colaboratory.intrinsic+json": {
              "type": "string"
            }
          },
          "metadata": {},
          "execution_count": 68
        }
      ]
    },
    {
      "cell_type": "code",
      "source": [
        "# list of strings\n",
        "Z = ['apple', 'banana', 'cherry']\n",
        "print(Z)\n",
        "type(Z)\n",
        "str(Z)\n"
      ],
      "metadata": {
        "colab": {
          "base_uri": "https://localhost:8080/",
          "height": 54
        },
        "id": "qukfl23UINDf",
        "outputId": "ddd61bd3-bd99-4963-a76e-a18823ba775f"
      },
      "execution_count": 82,
      "outputs": [
        {
          "output_type": "stream",
          "name": "stdout",
          "text": [
            "['apple', 'banana', 'cherry']\n"
          ]
        },
        {
          "output_type": "execute_result",
          "data": {
            "text/plain": [
              "\"['apple', 'banana', 'cherry']\""
            ],
            "application/vnd.google.colaboratory.intrinsic+json": {
              "type": "string"
            }
          },
          "metadata": {},
          "execution_count": 82
        }
      ]
    },
    {
      "cell_type": "code",
      "source": [
        "W = [10, 'world', 20, '30+3k', 20, 30,]\n",
        "type(W)\n",
        "bool(W)"
      ],
      "metadata": {
        "colab": {
          "base_uri": "https://localhost:8080/"
        },
        "id": "75TbHLhcJv4V",
        "outputId": "3141d092-382b-4a55-f76b-37fc92b246dd"
      },
      "execution_count": 86,
      "outputs": [
        {
          "output_type": "execute_result",
          "data": {
            "text/plain": [
              "True"
            ]
          },
          "metadata": {},
          "execution_count": 86
        }
      ]
    },
    {
      "cell_type": "code",
      "source": [
        "# Question 11. Write a program that checks if a number is positive, negative, or zero.\n",
        "\n",
        "num = float(input(\"Enter a number: \"))\n",
        "if num > 0:\n",
        "   print(\"positive number\")\n",
        "elif num == 0:\n",
        "    print(\"Zero\")\n",
        "elif num < 0:\n",
        "      print(\"negative number\")"
      ],
      "metadata": {
        "colab": {
          "base_uri": "https://localhost:8080/"
        },
        "id": "abMrvAITLogX",
        "outputId": "10954362-e453-48bf-d235-d8dcc3eae5f2"
      },
      "execution_count": 5,
      "outputs": [
        {
          "output_type": "stream",
          "name": "stdout",
          "text": [
            "Enter a number:  -8\n",
            "negative number\n"
          ]
        }
      ]
    },
    {
      "cell_type": "code",
      "source": [
        "# Question 12.  Write a for loop to print numbers from 1 to 10.\n",
        "\n",
        "n = range(1 , 11)\n",
        "for i in n:\n",
        "  print(i)\n"
      ],
      "metadata": {
        "colab": {
          "base_uri": "https://localhost:8080/"
        },
        "id": "udyOPGt1cu44",
        "outputId": "03228952-7b00-4b12-8a22-493eb07071d4"
      },
      "execution_count": 6,
      "outputs": [
        {
          "output_type": "stream",
          "name": "stdout",
          "text": [
            "1\n",
            "2\n",
            "3\n",
            "4\n",
            "5\n",
            "6\n",
            "7\n",
            "8\n",
            "9\n",
            "10\n"
          ]
        }
      ]
    },
    {
      "cell_type": "code",
      "source": [
        "# Question 13. Write a Python program to find the sum of all even numbers between 1 and 50.\n",
        "\n",
        "sum = 0\n",
        "for i in range(1 , 51):\n",
        "  if i % 2 == 0:\n",
        "    sum = sum + i\n",
        "    print(sum)"
      ],
      "metadata": {
        "colab": {
          "base_uri": "https://localhost:8080/"
        },
        "id": "236YGIKAd2rf",
        "outputId": "d9ac15f6-4036-4122-e135-450aa39f67cf"
      },
      "execution_count": 7,
      "outputs": [
        {
          "output_type": "stream",
          "name": "stdout",
          "text": [
            "2\n",
            "6\n",
            "12\n",
            "20\n",
            "30\n",
            "42\n",
            "56\n",
            "72\n",
            "90\n",
            "110\n",
            "132\n",
            "156\n",
            "182\n",
            "210\n",
            "240\n",
            "272\n",
            "306\n",
            "342\n",
            "380\n",
            "420\n",
            "462\n",
            "506\n",
            "552\n",
            "600\n",
            "650\n"
          ]
        }
      ]
    },
    {
      "cell_type": "code",
      "source": [
        "# Question 14.Write a program to reverse a string using a while loop.\n",
        "\n",
        "a = \"in data science practice is must \"\n",
        "while a != \"\":\n",
        "  print(a[-1])\n",
        "  a = a[:-1]"
      ],
      "metadata": {
        "colab": {
          "base_uri": "https://localhost:8080/"
        },
        "id": "G5s-VS0yeqFP",
        "outputId": "852b00fb-0263-4774-ae2e-5b31c220ed32"
      },
      "execution_count": 1,
      "outputs": [
        {
          "output_type": "stream",
          "name": "stdout",
          "text": [
            " \n",
            "t\n",
            "s\n",
            "u\n",
            "m\n",
            " \n",
            "s\n",
            "i\n",
            " \n",
            "e\n",
            "c\n",
            "i\n",
            "t\n",
            "c\n",
            "a\n",
            "r\n",
            "p\n",
            " \n",
            "e\n",
            "c\n",
            "n\n",
            "e\n",
            "i\n",
            "c\n",
            "s\n",
            " \n",
            "a\n",
            "t\n",
            "a\n",
            "d\n",
            " \n",
            "n\n",
            "i\n"
          ]
        }
      ]
    },
    {
      "cell_type": "code",
      "source": [
        "# Question 15. Write a Python program to calculate the factorial of a number provided by the user using a while loop.\n",
        "\n",
        "num = int(input(\"Enter a number\"))\n",
        "factorial = 1\n",
        "if num < 0:\n",
        "   print(\"Sorry factorial does not exist for negative numbers\")\n",
        "elif num == 0:\n",
        "   print(\"The factorial of 0 is 1\")\n",
        "else:\n",
        "   for i in range(1,num + 1):\n",
        "       factorial = factorial*i\n",
        "   print(\"The factorial of\",num,\"is\",factorial)\n"
      ],
      "metadata": {
        "colab": {
          "base_uri": "https://localhost:8080/"
        },
        "id": "t9DUC5bufXVv",
        "outputId": "e492b1ad-e50d-470a-a3e9-db9e83fae773"
      },
      "execution_count": 4,
      "outputs": [
        {
          "output_type": "stream",
          "name": "stdout",
          "text": [
            "Enter a number10\n",
            "The factorial of 10 is 3628800\n"
          ]
        }
      ]
    },
    {
      "cell_type": "code",
      "source": [
        "\n"
      ],
      "metadata": {
        "id": "hnzIfLk6kP9m"
      },
      "execution_count": null,
      "outputs": []
    }
  ]
}